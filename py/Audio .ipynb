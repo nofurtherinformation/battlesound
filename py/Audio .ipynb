{
 "cells": [
  {
   "cell_type": "code",
   "execution_count": 50,
   "id": "3ee1c14d",
   "metadata": {},
   "outputs": [],
   "source": [
    "import pandas as pd\n",
    "import numpy as np\n",
    "import librosa\n",
    "from glob import glob\n",
    "from datetime import datetime, timedelta"
   ]
  },
  {
   "cell_type": "code",
   "execution_count": 3,
   "id": "4d62019b",
   "metadata": {},
   "outputs": [],
   "source": [
    "sample_clips = glob('*.wav')"
   ]
  },
  {
   "cell_type": "code",
   "execution_count": 37,
   "id": "8eb1b7fe",
   "metadata": {},
   "outputs": [],
   "source": [
    "def analyze_audio(path:str, win_length:int):\n",
    "    data = librosa.load(path)\n",
    "    centroid = librosa.feature.spectral_centroid(y=data[0], sr=data[1], win_length=win_length)\n",
    "    return centroid[0]"
   ]
  },
  {
   "cell_type": "code",
   "execution_count": 38,
   "id": "a325de77",
   "metadata": {},
   "outputs": [],
   "source": [
    "results = [analyze_audio(path, 500) for path in sample_clips]"
   ]
  },
  {
   "cell_type": "code",
   "execution_count": 39,
   "id": "18eeb161",
   "metadata": {},
   "outputs": [
    {
     "data": {
      "text/plain": [
       "[array([ 874.63969849,  915.28378568,  879.60635076, ...,  956.18894686,\n",
       "        1127.70759853, 1064.81778448]),\n",
       " array([2118.58396132, 1089.80808012, 1330.86366651, ..., 1026.21562786,\n",
       "        1034.77022792,  743.48534778]),\n",
       " array([1636.08513151, 1578.08400924, 1934.58628975, ..., 1318.78161329,\n",
       "        1368.6954177 , 1267.52076665])]"
      ]
     },
     "execution_count": 39,
     "metadata": {},
     "output_type": "execute_result"
    }
   ],
   "source": [
    "results"
   ]
  },
  {
   "cell_type": "code",
   "execution_count": 44,
   "id": "a48c37d6",
   "metadata": {},
   "outputs": [],
   "source": [
    "min_len = min([len(r) for r in results])\n",
    "results = [r[0:min_len] for r in results]"
   ]
  },
  {
   "cell_type": "code",
   "execution_count": 54,
   "id": "a2e3f15c",
   "metadata": {},
   "outputs": [],
   "source": [
    "FAKE_START_DATE = datetime(year=2022, month=5, day=1)\n",
    "FAKE_SAMPLE_RATE = 1"
   ]
  },
  {
   "cell_type": "code",
   "execution_count": 60,
   "id": "9a57927f",
   "metadata": {},
   "outputs": [],
   "source": [
    "dates = []\n",
    "for i in range(0, len(results[0])):\n",
    "    newDate = FAKE_START_DATE + timedelta(minutes=i*FAKE_SAMPLE_RATE)\n",
    "    dates.append(newDate.isoformat())\n",
    "results.append(dates)"
   ]
  },
  {
   "cell_type": "code",
   "execution_count": 70,
   "id": "f9b631e5",
   "metadata": {},
   "outputs": [],
   "source": [
    "df = pd.DataFrame(results).T\n",
    "df.columns = ['phone1','phone2','phone3','timestamp']\n",
    "for i in range(1,4):\n",
    "    df[f\"phone{i}\"] = df[f\"phone{i}\"].apply(lambda x: round(x))"
   ]
  },
  {
   "cell_type": "code",
   "execution_count": 73,
   "id": "7f96c2f4",
   "metadata": {},
   "outputs": [],
   "source": [
    "df.to_csv(\"sample_results.csv\", index=False)"
   ]
  },
  {
   "cell_type": "code",
   "execution_count": null,
   "id": "aba95542",
   "metadata": {},
   "outputs": [],
   "source": []
  }
 ],
 "metadata": {
  "kernelspec": {
   "display_name": "Python 3 (ipykernel)",
   "language": "python",
   "name": "python3"
  },
  "language_info": {
   "codemirror_mode": {
    "name": "ipython",
    "version": 3
   },
   "file_extension": ".py",
   "mimetype": "text/x-python",
   "name": "python",
   "nbconvert_exporter": "python",
   "pygments_lexer": "ipython3",
   "version": "3.7.13"
  }
 },
 "nbformat": 4,
 "nbformat_minor": 5
}
